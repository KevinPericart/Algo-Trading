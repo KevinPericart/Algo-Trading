{
 "cells": [
  {
   "cell_type": "markdown",
   "metadata": {},
   "source": [
    "# <center> Portfolio Analysis with FAANG Stocks <center>"
   ]
  },
  {
   "cell_type": "markdown",
   "metadata": {},
   "source": [
    "This project aims to undertake an analysis about FAANG portfolio."
   ]
  },
  {
   "cell_type": "code",
   "execution_count": 19,
   "metadata": {},
   "outputs": [
    {
     "name": "stdout",
     "output_type": "stream",
     "text": [
      "Collecting PyPortfolioOpt\n",
      "  Downloading PyPortfolioOpt-1.2.6-py3-none-any.whl (48 kB)\n",
      "Requirement already satisfied: numpy<2.0,>=1.12 in c:\\users\\macbi\\anaconda3\\lib\\site-packages (from PyPortfolioOpt) (1.18.4)\n",
      "Requirement already satisfied: scipy<2.0,>=1.3 in c:\\users\\macbi\\anaconda3\\lib\\site-packages (from PyPortfolioOpt) (1.4.1)\n",
      "Requirement already satisfied: pandas>=0.19 in c:\\users\\macbi\\anaconda3\\lib\\site-packages (from PyPortfolioOpt) (1.0.3)\n",
      "Collecting cvxopt<2.0,>=1.2\n",
      "  Downloading cvxopt-1.2.5.post1-cp37-cp37m-win_amd64.whl (9.5 MB)\n",
      "Collecting cvxpy<2.0,>=1.0\n",
      "  Downloading cvxpy-1.1.7-cp37-cp37m-win_amd64.whl (782 kB)\n",
      "Requirement already satisfied: pytz>=2017.2 in c:\\users\\macbi\\anaconda3\\lib\\site-packages (from pandas>=0.19->PyPortfolioOpt) (2019.3)\n",
      "Requirement already satisfied: python-dateutil>=2.6.1 in c:\\users\\macbi\\anaconda3\\lib\\site-packages (from pandas>=0.19->PyPortfolioOpt) (2.8.1)\n",
      "Collecting ecos>=2\n",
      "  Downloading ecos-2.0.7.post1.tar.gz (126 kB)\n",
      "Collecting osqp>=0.4.1\n",
      "  Downloading osqp-0.6.1-cp37-cp37m-win_amd64.whl (156 kB)\n",
      "Collecting scs>=1.1.6\n",
      "  Downloading scs-2.1.2.tar.gz (3.5 MB)\n",
      "Requirement already satisfied: six>=1.5 in c:\\users\\macbi\\anaconda3\\lib\\site-packages (from python-dateutil>=2.6.1->pandas>=0.19->PyPortfolioOpt) (1.14.0)\n",
      "Requirement already satisfied: future in c:\\users\\macbi\\anaconda3\\lib\\site-packages (from osqp>=0.4.1->cvxpy<2.0,>=1.0->PyPortfolioOpt) (0.18.2)\n",
      "Building wheels for collected packages: ecos, scs\n",
      "  Building wheel for ecos (setup.py): started\n",
      "  Building wheel for ecos (setup.py): finished with status 'done'\n",
      "  Created wheel for ecos: filename=ecos-2.0.7.post1-cp37-cp37m-win_amd64.whl size=68356 sha256=8befaa1cbb9aa09d88c2584b5ee309272a5646490b5cbc0e127a10e3bfbc60b7\n",
      "  Stored in directory: c:\\users\\macbi\\appdata\\local\\pip\\cache\\wheels\\70\\e7\\fd\\4a4f957fc18a0f0407ca4b331c51e6a469c92efec58f732edf\n",
      "  Building wheel for scs (setup.py): started\n",
      "  Building wheel for scs (setup.py): finished with status 'done'\n",
      "  Created wheel for scs: filename=scs-2.1.2-cp37-cp37m-win_amd64.whl size=119585 sha256=56c7a73454bc1a07f78d3e46ee69df69533e0006cd82da634b8e72389546aad2\n",
      "  Stored in directory: c:\\users\\macbi\\appdata\\local\\pip\\cache\\wheels\\bc\\e9\\2d\\41c52bfaefbbbee5b3c6c189e168039f6ac9b40fa2e14fe96d\n",
      "Successfully built ecos scs\n",
      "Installing collected packages: cvxopt, ecos, osqp, scs, cvxpy, PyPortfolioOpt\n",
      "Successfully installed PyPortfolioOpt-1.2.6 cvxopt-1.2.5.post1 cvxpy-1.1.7 ecos-2.0.7.post1 osqp-0.6.1 scs-2.1.2\n"
     ]
    }
   ],
   "source": [
    "!pip install PyPortfolioOpt"
   ]
  },
  {
   "cell_type": "code",
   "execution_count": 21,
   "metadata": {},
   "outputs": [],
   "source": [
    "import pandas as pd\n",
    "import numpy as np\n",
    "import matplotlib.pyplot as plt\n",
    "from datetime import datetime\n",
    "from pandas_datareader import data as web\n",
    "\n",
    "from pypfopt.efficient_frontier import EfficientFrontier\n",
    "from pypfopt import risk_models\n",
    "from pypfopt import expected_returns\n",
    "from pypfopt.discrete_allocation import DiscreteAllocation, get_latest_prices"
   ]
  },
  {
   "cell_type": "code",
   "execution_count": 2,
   "metadata": {},
   "outputs": [],
   "source": [
    "assets = ['FB', 'AMZN', 'AAPL', 'NFLX', 'GOOG']\n",
    "weights = np.array([0.2, 0.2, 0.2, 0.2, 0.2])"
   ]
  },
  {
   "cell_type": "code",
   "execution_count": 3,
   "metadata": {},
   "outputs": [
    {
     "data": {
      "text/plain": [
       "'2020-10-31'"
      ]
     },
     "execution_count": 3,
     "metadata": {},
     "output_type": "execute_result"
    }
   ],
   "source": [
    "stockStartDate = '2015-01-01'\n",
    "today = datetime.today().strftime('%Y-%m-%d')\n",
    "today"
   ]
  },
  {
   "cell_type": "code",
   "execution_count": 5,
   "metadata": {},
   "outputs": [],
   "source": [
    "df = pd.DataFrame()\n",
    "for stock in assets :\n",
    "    df[stock] = web.DataReader(stock, data_source = 'yahoo', start = stockStartDate, end = today)['Adj Close']"
   ]
  },
  {
   "cell_type": "code",
   "execution_count": 6,
   "metadata": {},
   "outputs": [
    {
     "data": {
      "text/html": [
       "<div>\n",
       "<style scoped>\n",
       "    .dataframe tbody tr th:only-of-type {\n",
       "        vertical-align: middle;\n",
       "    }\n",
       "\n",
       "    .dataframe tbody tr th {\n",
       "        vertical-align: top;\n",
       "    }\n",
       "\n",
       "    .dataframe thead th {\n",
       "        text-align: right;\n",
       "    }\n",
       "</style>\n",
       "<table border=\"1\" class=\"dataframe\">\n",
       "  <thead>\n",
       "    <tr style=\"text-align: right;\">\n",
       "      <th></th>\n",
       "      <th>FB</th>\n",
       "      <th>AMZN</th>\n",
       "      <th>AAPL</th>\n",
       "      <th>NFLX</th>\n",
       "      <th>GOOG</th>\n",
       "    </tr>\n",
       "    <tr>\n",
       "      <th>Date</th>\n",
       "      <th></th>\n",
       "      <th></th>\n",
       "      <th></th>\n",
       "      <th></th>\n",
       "      <th></th>\n",
       "    </tr>\n",
       "  </thead>\n",
       "  <tbody>\n",
       "    <tr>\n",
       "      <th>2015-01-02</th>\n",
       "      <td>78.449997</td>\n",
       "      <td>308.519989</td>\n",
       "      <td>24.941502</td>\n",
       "      <td>49.848572</td>\n",
       "      <td>523.373108</td>\n",
       "    </tr>\n",
       "    <tr>\n",
       "      <th>2015-01-05</th>\n",
       "      <td>77.190002</td>\n",
       "      <td>302.190002</td>\n",
       "      <td>24.238857</td>\n",
       "      <td>47.311428</td>\n",
       "      <td>512.463013</td>\n",
       "    </tr>\n",
       "    <tr>\n",
       "      <th>2015-01-06</th>\n",
       "      <td>76.150002</td>\n",
       "      <td>295.290009</td>\n",
       "      <td>24.241146</td>\n",
       "      <td>46.501427</td>\n",
       "      <td>500.585632</td>\n",
       "    </tr>\n",
       "    <tr>\n",
       "      <th>2015-01-07</th>\n",
       "      <td>76.150002</td>\n",
       "      <td>298.420013</td>\n",
       "      <td>24.581060</td>\n",
       "      <td>46.742859</td>\n",
       "      <td>499.727997</td>\n",
       "    </tr>\n",
       "    <tr>\n",
       "      <th>2015-01-08</th>\n",
       "      <td>78.180000</td>\n",
       "      <td>300.459991</td>\n",
       "      <td>25.525522</td>\n",
       "      <td>47.779999</td>\n",
       "      <td>501.303680</td>\n",
       "    </tr>\n",
       "    <tr>\n",
       "      <th>...</th>\n",
       "      <td>...</td>\n",
       "      <td>...</td>\n",
       "      <td>...</td>\n",
       "      <td>...</td>\n",
       "      <td>...</td>\n",
       "    </tr>\n",
       "    <tr>\n",
       "      <th>2020-10-26</th>\n",
       "      <td>277.109985</td>\n",
       "      <td>3207.040039</td>\n",
       "      <td>115.050003</td>\n",
       "      <td>488.239990</td>\n",
       "      <td>1590.449951</td>\n",
       "    </tr>\n",
       "    <tr>\n",
       "      <th>2020-10-27</th>\n",
       "      <td>283.290009</td>\n",
       "      <td>3286.330078</td>\n",
       "      <td>116.599998</td>\n",
       "      <td>488.929993</td>\n",
       "      <td>1604.260010</td>\n",
       "    </tr>\n",
       "    <tr>\n",
       "      <th>2020-10-28</th>\n",
       "      <td>267.670013</td>\n",
       "      <td>3162.780029</td>\n",
       "      <td>111.199997</td>\n",
       "      <td>486.239990</td>\n",
       "      <td>1516.619995</td>\n",
       "    </tr>\n",
       "    <tr>\n",
       "      <th>2020-10-29</th>\n",
       "      <td>280.829987</td>\n",
       "      <td>3211.010010</td>\n",
       "      <td>115.320000</td>\n",
       "      <td>504.209991</td>\n",
       "      <td>1567.239990</td>\n",
       "    </tr>\n",
       "    <tr>\n",
       "      <th>2020-10-30</th>\n",
       "      <td>263.109985</td>\n",
       "      <td>3036.149902</td>\n",
       "      <td>108.860001</td>\n",
       "      <td>475.739990</td>\n",
       "      <td>1621.010010</td>\n",
       "    </tr>\n",
       "  </tbody>\n",
       "</table>\n",
       "<p>1469 rows × 5 columns</p>\n",
       "</div>"
      ],
      "text/plain": [
       "                    FB         AMZN        AAPL        NFLX         GOOG\n",
       "Date                                                                    \n",
       "2015-01-02   78.449997   308.519989   24.941502   49.848572   523.373108\n",
       "2015-01-05   77.190002   302.190002   24.238857   47.311428   512.463013\n",
       "2015-01-06   76.150002   295.290009   24.241146   46.501427   500.585632\n",
       "2015-01-07   76.150002   298.420013   24.581060   46.742859   499.727997\n",
       "2015-01-08   78.180000   300.459991   25.525522   47.779999   501.303680\n",
       "...                ...          ...         ...         ...          ...\n",
       "2020-10-26  277.109985  3207.040039  115.050003  488.239990  1590.449951\n",
       "2020-10-27  283.290009  3286.330078  116.599998  488.929993  1604.260010\n",
       "2020-10-28  267.670013  3162.780029  111.199997  486.239990  1516.619995\n",
       "2020-10-29  280.829987  3211.010010  115.320000  504.209991  1567.239990\n",
       "2020-10-30  263.109985  3036.149902  108.860001  475.739990  1621.010010\n",
       "\n",
       "[1469 rows x 5 columns]"
      ]
     },
     "execution_count": 6,
     "metadata": {},
     "output_type": "execute_result"
    }
   ],
   "source": [
    "df"
   ]
  },
  {
   "cell_type": "code",
   "execution_count": 10,
   "metadata": {},
   "outputs": [
    {
     "data": {
      "image/png": "[encoded data removed]",
      "text/plain": [
       "<Figure size 432x288 with 1 Axes>"
      ]
     },
     "metadata": {
      "needs_background": "light"
     },
     "output_type": "display_data"
    }
   ],
   "source": [
    "title = 'Portfolio Adj Close PRice History'\n",
    "mystocks = df\n",
    "for c in mystocks.columns.values : \n",
    "    plt.plot(mystocks[c], label = c)\n",
    "plt.title(title)\n",
    "plt.xlabel('Date', fontsize = 10)\n",
    "plt.ylabel('Adj Price USD $', fontsize = 10)\n",
    "plt.legend(mystocks.columns.values, loc = 'upper left')\n",
    "plt.show()"
   ]
  },
  {
   "cell_type": "code",
   "execution_count": 11,
   "metadata": {},
   "outputs": [
    {
     "data": {
      "text/html": [
       "<div>\n",
       "<style scoped>\n",
       "    .dataframe tbody tr th:only-of-type {\n",
       "        vertical-align: middle;\n",
       "    }\n",
       "\n",
       "    .dataframe tbody tr th {\n",
       "        vertical-align: top;\n",
       "    }\n",
       "\n",
       "    .dataframe thead th {\n",
       "        text-align: right;\n",
       "    }\n",
       "</style>\n",
       "<table border=\"1\" class=\"dataframe\">\n",
       "  <thead>\n",
       "    <tr style=\"text-align: right;\">\n",
       "      <th></th>\n",
       "      <th>FB</th>\n",
       "      <th>AMZN</th>\n",
       "      <th>AAPL</th>\n",
       "      <th>NFLX</th>\n",
       "      <th>GOOG</th>\n",
       "    </tr>\n",
       "    <tr>\n",
       "      <th>Date</th>\n",
       "      <th></th>\n",
       "      <th></th>\n",
       "      <th></th>\n",
       "      <th></th>\n",
       "      <th></th>\n",
       "    </tr>\n",
       "  </thead>\n",
       "  <tbody>\n",
       "    <tr>\n",
       "      <th>2015-01-02</th>\n",
       "      <td>NaN</td>\n",
       "      <td>NaN</td>\n",
       "      <td>NaN</td>\n",
       "      <td>NaN</td>\n",
       "      <td>NaN</td>\n",
       "    </tr>\n",
       "    <tr>\n",
       "      <th>2015-01-05</th>\n",
       "      <td>-0.016061</td>\n",
       "      <td>-0.020517</td>\n",
       "      <td>-0.028172</td>\n",
       "      <td>-0.050897</td>\n",
       "      <td>-0.020846</td>\n",
       "    </tr>\n",
       "    <tr>\n",
       "      <th>2015-01-06</th>\n",
       "      <td>-0.013473</td>\n",
       "      <td>-0.022833</td>\n",
       "      <td>0.000094</td>\n",
       "      <td>-0.017121</td>\n",
       "      <td>-0.023177</td>\n",
       "    </tr>\n",
       "    <tr>\n",
       "      <th>2015-01-07</th>\n",
       "      <td>0.000000</td>\n",
       "      <td>0.010600</td>\n",
       "      <td>0.014022</td>\n",
       "      <td>0.005192</td>\n",
       "      <td>-0.001713</td>\n",
       "    </tr>\n",
       "    <tr>\n",
       "      <th>2015-01-08</th>\n",
       "      <td>0.026658</td>\n",
       "      <td>0.006836</td>\n",
       "      <td>0.038422</td>\n",
       "      <td>0.022188</td>\n",
       "      <td>0.003153</td>\n",
       "    </tr>\n",
       "    <tr>\n",
       "      <th>...</th>\n",
       "      <td>...</td>\n",
       "      <td>...</td>\n",
       "      <td>...</td>\n",
       "      <td>...</td>\n",
       "      <td>...</td>\n",
       "    </tr>\n",
       "    <tr>\n",
       "      <th>2020-10-26</th>\n",
       "      <td>-0.026967</td>\n",
       "      <td>0.000824</td>\n",
       "      <td>0.000087</td>\n",
       "      <td>-0.000082</td>\n",
       "      <td>-0.030804</td>\n",
       "    </tr>\n",
       "    <tr>\n",
       "      <th>2020-10-27</th>\n",
       "      <td>0.022302</td>\n",
       "      <td>0.024724</td>\n",
       "      <td>0.013472</td>\n",
       "      <td>0.001413</td>\n",
       "      <td>0.008683</td>\n",
       "    </tr>\n",
       "    <tr>\n",
       "      <th>2020-10-28</th>\n",
       "      <td>-0.055138</td>\n",
       "      <td>-0.037595</td>\n",
       "      <td>-0.046312</td>\n",
       "      <td>-0.005502</td>\n",
       "      <td>-0.054630</td>\n",
       "    </tr>\n",
       "    <tr>\n",
       "      <th>2020-10-29</th>\n",
       "      <td>0.049165</td>\n",
       "      <td>0.015249</td>\n",
       "      <td>0.037050</td>\n",
       "      <td>0.036957</td>\n",
       "      <td>0.033377</td>\n",
       "    </tr>\n",
       "    <tr>\n",
       "      <th>2020-10-30</th>\n",
       "      <td>-0.063099</td>\n",
       "      <td>-0.054456</td>\n",
       "      <td>-0.056018</td>\n",
       "      <td>-0.056465</td>\n",
       "      <td>0.034309</td>\n",
       "    </tr>\n",
       "  </tbody>\n",
       "</table>\n",
       "<p>1469 rows × 5 columns</p>\n",
       "</div>"
      ],
      "text/plain": [
       "                  FB      AMZN      AAPL      NFLX      GOOG\n",
       "Date                                                        \n",
       "2015-01-02       NaN       NaN       NaN       NaN       NaN\n",
       "2015-01-05 -0.016061 -0.020517 -0.028172 -0.050897 -0.020846\n",
       "2015-01-06 -0.013473 -0.022833  0.000094 -0.017121 -0.023177\n",
       "2015-01-07  0.000000  0.010600  0.014022  0.005192 -0.001713\n",
       "2015-01-08  0.026658  0.006836  0.038422  0.022188  0.003153\n",
       "...              ...       ...       ...       ...       ...\n",
       "2020-10-26 -0.026967  0.000824  0.000087 -0.000082 -0.030804\n",
       "2020-10-27  0.022302  0.024724  0.013472  0.001413  0.008683\n",
       "2020-10-28 -0.055138 -0.037595 -0.046312 -0.005502 -0.054630\n",
       "2020-10-29  0.049165  0.015249  0.037050  0.036957  0.033377\n",
       "2020-10-30 -0.063099 -0.054456 -0.056018 -0.056465  0.034309\n",
       "\n",
       "[1469 rows x 5 columns]"
      ]
     },
     "execution_count": 11,
     "metadata": {},
     "output_type": "execute_result"
    }
   ],
   "source": [
    "returns = df.pct_change()\n",
    "returns"
   ]
  },
  {
   "cell_type": "code",
   "execution_count": 12,
   "metadata": {},
   "outputs": [
    {
     "data": {
      "text/html": [
       "<div>\n",
       "<style scoped>\n",
       "    .dataframe tbody tr th:only-of-type {\n",
       "        vertical-align: middle;\n",
       "    }\n",
       "\n",
       "    .dataframe tbody tr th {\n",
       "        vertical-align: top;\n",
       "    }\n",
       "\n",
       "    .dataframe thead th {\n",
       "        text-align: right;\n",
       "    }\n",
       "</style>\n",
       "<table border=\"1\" class=\"dataframe\">\n",
       "  <thead>\n",
       "    <tr style=\"text-align: right;\">\n",
       "      <th></th>\n",
       "      <th>FB</th>\n",
       "      <th>AMZN</th>\n",
       "      <th>AAPL</th>\n",
       "      <th>NFLX</th>\n",
       "      <th>GOOG</th>\n",
       "    </tr>\n",
       "  </thead>\n",
       "  <tbody>\n",
       "    <tr>\n",
       "      <th>FB</th>\n",
       "      <td>0.101318</td>\n",
       "      <td>0.058794</td>\n",
       "      <td>0.054293</td>\n",
       "      <td>0.060001</td>\n",
       "      <td>0.057474</td>\n",
       "    </tr>\n",
       "    <tr>\n",
       "      <th>AMZN</th>\n",
       "      <td>0.058794</td>\n",
       "      <td>0.096357</td>\n",
       "      <td>0.050818</td>\n",
       "      <td>0.069584</td>\n",
       "      <td>0.054672</td>\n",
       "    </tr>\n",
       "    <tr>\n",
       "      <th>AAPL</th>\n",
       "      <td>0.054293</td>\n",
       "      <td>0.050818</td>\n",
       "      <td>0.088036</td>\n",
       "      <td>0.052189</td>\n",
       "      <td>0.048816</td>\n",
       "    </tr>\n",
       "    <tr>\n",
       "      <th>NFLX</th>\n",
       "      <td>0.060001</td>\n",
       "      <td>0.069584</td>\n",
       "      <td>0.052189</td>\n",
       "      <td>0.182108</td>\n",
       "      <td>0.055725</td>\n",
       "    </tr>\n",
       "    <tr>\n",
       "      <th>GOOG</th>\n",
       "      <td>0.057474</td>\n",
       "      <td>0.054672</td>\n",
       "      <td>0.048816</td>\n",
       "      <td>0.055725</td>\n",
       "      <td>0.073205</td>\n",
       "    </tr>\n",
       "  </tbody>\n",
       "</table>\n",
       "</div>"
      ],
      "text/plain": [
       "            FB      AMZN      AAPL      NFLX      GOOG\n",
       "FB    0.101318  0.058794  0.054293  0.060001  0.057474\n",
       "AMZN  0.058794  0.096357  0.050818  0.069584  0.054672\n",
       "AAPL  0.054293  0.050818  0.088036  0.052189  0.048816\n",
       "NFLX  0.060001  0.069584  0.052189  0.182108  0.055725\n",
       "GOOG  0.057474  0.054672  0.048816  0.055725  0.073205"
      ]
     },
     "execution_count": 12,
     "metadata": {},
     "output_type": "execute_result"
    }
   ],
   "source": [
    "cov_matrix_annual = returns.cov() * 252\n",
    "cov_matrix_annual"
   ]
  },
  {
   "cell_type": "code",
   "execution_count": 14,
   "metadata": {},
   "outputs": [
    {
     "name": "stdout",
     "output_type": "stream",
     "text": [
      "The variance of the portfolio is : 0.06663021527495858\n"
     ]
    }
   ],
   "source": [
    "port_variance = np.dot(weights.T, np.dot(cov_matrix_annual, weights))\n",
    "print('The variance of the portfolio is :', port_variance)"
   ]
  },
  {
   "cell_type": "code",
   "execution_count": 15,
   "metadata": {},
   "outputs": [
    {
     "name": "stdout",
     "output_type": "stream",
     "text": [
      "The Standard deviation of the portfolio is : 0.25812829227916606\n"
     ]
    }
   ],
   "source": [
    "port_std = np.sqrt(port_variance)\n",
    "print('The Standard deviation of the portfolio is :', port_std)"
   ]
  },
  {
   "cell_type": "code",
   "execution_count": 16,
   "metadata": {},
   "outputs": [
    {
     "data": {
      "text/plain": [
       "0.34089657814295055"
      ]
     },
     "execution_count": 16,
     "metadata": {},
     "output_type": "execute_result"
    }
   ],
   "source": [
    "port_annual_return = np.sum(returns.mean() * weights * 252)\n",
    "port_annual_return"
   ]
  },
  {
   "cell_type": "code",
   "execution_count": 26,
   "metadata": {},
   "outputs": [
    {
     "name": "stdout",
     "output_type": "stream",
     "text": [
      "Expected annual return :  34.089999999999996%\n",
      "Annual volatility / Risk :  25.812829230000002%\n",
      "Annual variance :  6.66302153%\n"
     ]
    }
   ],
   "source": [
    "percent_var = str(round(port_variance, 10) * 100) + '%'\n",
    "percent_vols = str(round(port_std, 10) * 100) + '%'\n",
    "percent_ret = str(round(port_annual_return, 4) * 100) + '%'\n",
    "print('Expected annual return : ', percent_ret)\n",
    "print('Annual volatility / Risk : ', percent_vols)\n",
    "print('Annual variance : ', percent_var)"
   ]
  },
  {
   "cell_type": "code",
   "execution_count": 23,
   "metadata": {},
   "outputs": [
    {
     "name": "stdout",
     "output_type": "stream",
     "text": [
      "OrderedDict([('FB', 0.0), ('AMZN', 0.79055), ('AAPL', 0.03529), ('NFLX', 0.17416), ('GOOG', 0.0)])\n",
      "Expected annual return: 47.3%\n",
      "Annual volatility: 29.7%\n",
      "Sharpe Ratio: 1.52\n"
     ]
    },
    {
     "data": {
      "text/plain": [
       "(0.472538909719448, 0.2974749718287715, 1.5212671739655876)"
      ]
     },
     "execution_count": 23,
     "metadata": {},
     "output_type": "execute_result"
    }
   ],
   "source": [
    "mu = expected_returns.mean_historical_return(df)\n",
    "S = risk_models.sample_cov(df)\n",
    "ef = EfficientFrontier(mu, S)\n",
    "weights = ef.max_sharpe()\n",
    "cleaned_weights = ef.clean_weights()\n",
    "print(cleaned_weights)\n",
    "ef.portfolio_performance(verbose = True)"
   ]
  },
  {
   "cell_type": "code",
   "execution_count": 27,
   "metadata": {},
   "outputs": [
    {
     "name": "stdout",
     "output_type": "stream",
     "text": [
      "Discrete allocation : {'AMZN': 5, 'AAPL': 7, 'NFLX': 8}\n",
      "Funds remaining : $251.31\n"
     ]
    }
   ],
   "source": [
    "latest_prices = get_latest_prices(df)\n",
    "weights = cleaned_weights\n",
    "da = DiscreteAllocation(weights, latest_prices, total_portfolio_value = 20000)\n",
    "allocation, leftover = da.lp_portfolio()\n",
    "print('Discrete allocation :', allocation)\n",
    "print('Funds remaining : ${:.2f}'.format(leftover))"
   ]
  }
 ],
 "metadata": {
  "kernelspec": {
   "display_name": "Python 3",
   "language": "python",
   "name": "python3"
  },
  "language_info": {
   "codemirror_mode": {
    "name": "ipython",
    "version": 3
   },
   "file_extension": ".py",
   "mimetype": "text/x-python",
   "name": "python",
   "nbconvert_exporter": "python",
   "pygments_lexer": "ipython3",
   "version": "3.7.7"
  }
 },
 "nbformat": 4,
 "nbformat_minor": 4
}
